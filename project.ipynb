{
 "cells": [
  {
   "cell_type": "code",
   "execution_count": 12,
   "metadata": {},
   "outputs": [],
   "source": [
    "# importing libraries\n",
    "import pandas as pd\n",
    "import seaborn as sns\n",
    "import numpy as np\n",
    "import matplotlib.pyplot as plt\n",
    "import geopandas as gpd\n",
    "import plotly.express as px"
   ]
  },
  {
   "cell_type": "code",
   "execution_count": 13,
   "metadata": {},
   "outputs": [],
   "source": [
    "# making dfs of all files\n",
    "lpi_df = pd.read_csv(\"../data/global-living-planet-index.csv\")\n",
    "rli_df = pd.read_csv(\"../data/red-list-index.csv\")\n",
    "ptbs_df = pd.read_csv(\"../data/protected-terrestrial-biodiversity-sites.csv\")\n",
    "rli_df.rename(columns={'15.5.1 - Red List Index - ER_RSK_LST': 'Red List Index'}, inplace=True)\n",
    "ptbs_df.rename(columns={'15.1.2 - Average proportion of Terrestrial Key Biodiversity Areas (KBAs) covered by protected areas (%) - ER_PTD_TERR' : 'KBAs'}, inplace =True)"
   ]
  },
  {
   "cell_type": "code",
   "execution_count": 14,
   "metadata": {},
   "outputs": [],
   "source": [
    "# making dictionary out of ipbes regions csv file \n",
    "dict_df = pd.read_csv(\"../data/ipbes_regions_subregions_1.1.csv\")\n",
    "\n",
    "# using dictionary comprehension by zipping list of country codes with list of country regions\n",
    "# so region dct connects country code to it's ipbes region\n",
    "region_dct = {code : region for (code, region) in zip(dict_df[\"GID_0\"].tolist(), dict_df[\"Region\"].tolist())}"
   ]
  },
  {
   "cell_type": "code",
   "execution_count": 15,
   "metadata": {},
   "outputs": [],
   "source": [
    "\"\"\" # I first tried to use country name in the dictionary and area, but country code is standardized\n",
    "rli_df[\"Region\"] = rli_df[\"Code\"].map(region_dct)\n",
    "ptbs_df[\"Region\"] = ptbs_df[\"Code\"].map(region_dct)\n",
    "\n",
    "# checking the null values after mapping to see if any countries were missed\n",
    "print(ptbs_df[ptbs_df[\"Region\"].isna()][\"Entity\"].unique(), \n",
    "rli_df[rli_df[\"Region\"].isna()][\"Entity\"].unique())\"\"\"\n",
    "\n",
    "\n",
    "# this (above) was my original code, but it was mapping incorrect values ot the null code values so I had to initialize the regions \n",
    "# as null so that it wouldn't map weirdly\n",
    "rli_df[\"Region\"] = np.nan\n",
    "ptbs_df[\"Region\"] = np.nan\n",
    "\n",
    "# apply mapping only to non-null code values\n",
    "rli_df.loc[rli_df[\"Code\"].notna(), \"Region\"] = rli_df[\"Code\"].map(region_dct)\n",
    "ptbs_df.loc[ptbs_df[\"Code\"].notna(), \"Region\"] = ptbs_df[\"Code\"].map(region_dct)\n",
    "\n",
    "# adding a region column to living planet index df so they're the same, and adding it in as \"americas\" \n",
    "# instead of separately to be the same as the other two\n",
    "lpi_df[\"Region\"] = lpi_df[\"Entity\"].apply(lambda x: \"Americas\" if x in [\"North America\", \"Latin America and the Caribbean\"] else x)"
   ]
  },
  {
   "cell_type": "code",
   "execution_count": null,
   "metadata": {},
   "outputs": [],
   "source": [
    "# looking for only overlapping years\n",
    "print(lpi_df['Year'].unique())\n",
    "print(ptbs_df['Year'].unique())\n",
    "print(rli_df['Year'].unique())\n",
    "\n",
    "# function that will filter each df to only apply the years that each of them have data for\n",
    "# not applying this just yet because I don't want to edit the data until I'm using it\n",
    "def overlapping_years(df):\n",
    "    df = df[df['Year'].between(2000,2020)]\n",
    "    return df"
   ]
  },
  {
   "cell_type": "markdown",
   "metadata": {},
   "source": [
    "## COMPARING LIVING PLANET INDEX WITH REGIONS TO RED LIST INDEX"
   ]
  },
  {
   "cell_type": "code",
   "execution_count": 17,
   "metadata": {},
   "outputs": [],
   "source": [
    "# making custom palettes to ensure that region line colors are standardized across both plots\n",
    "lpi_palette = {\n",
    "    \"Africa\": \"cornflowerblue\",\n",
    "    \"Americas\": \"green\",\n",
    "    \"Europe and Central Asia\": \"red\",\n",
    "    \"Asia and Pacific\": \"orange\"\n",
    "}\n",
    "rli_palette = {\n",
    "    \"Africa\": \"cornflowerblue\",\n",
    "    \"Americas\": \"green\",\n",
    "    \"Europe and Central Asia\": \"red\",\n",
    "    \"Asia and the Pacific\": \"orange\"\n",
    "}\n"
   ]
  },
  {
   "cell_type": "code",
   "execution_count": null,
   "metadata": {},
   "outputs": [],
   "source": [
    "# filtering living planet index and red list index to only show the years that both have data on\n",
    "filtered_lpi_df = lpi_df[lpi_df[\"Year\"] >= 1993]\n",
    "filtered_rli_df = rli_df[rli_df[\"Year\"] <= 2020]\n",
    "\n",
    "# initializing figure so I can make the two plots next to each other\n",
    "fig, axes = plt.subplots(1, 2, figsize=(14, 6)) \n",
    "\n",
    "sns.lineplot(x='Year', y='Living Planet Index', \n",
    "             data=filtered_lpi_df[filtered_lpi_df[\"Region\"].isin([\"Africa\", \"Americas\", \"Europe and Central Asia\", \"Asia and Pacific\"])], \n",
    "             hue='Region', errorbar=None, palette=lpi_palette, ax=axes[0])\n",
    "axes[0].set_title(\"Living Planet Index\")\n",
    "\n",
    "sns.lineplot(x='Year', y=\"Red List Index\", hue=\"Region\", \n",
    "             data = filtered_rli_df[filtered_rli_df[\"Region\"].notna()], palette=rli_palette, ax=axes[1])\n",
    "axes[1].set_ylabel(\"Red List Index\")\n",
    "plt.suptitle(\"Living Planet and Red List Indices by IPBES Region from 1993 to 2020\")\n",
    "plt.savefig('livingplanetindex.png')\n",
    "plt.show()"
   ]
  },
  {
   "cell_type": "markdown",
   "metadata": {},
   "source": [
    "## GEO DATASET"
   ]
  },
  {
   "cell_type": "markdown",
   "metadata": {},
   "source": [
    "##### IPBES regions and living planet index"
   ]
  },
  {
   "cell_type": "code",
   "execution_count": 19,
   "metadata": {},
   "outputs": [],
   "source": [
    "ipbes = gpd.read_file(\"../data/IPBES_Regions_Subregions2.shp\")"
   ]
  },
  {
   "cell_type": "code",
   "execution_count": 20,
   "metadata": {},
   "outputs": [],
   "source": [
    "from shapely.validation import make_valid\n",
    "\n",
    "# Had to get help from a friend for this one because the geodata wasn't dissolvign\n",
    "ipbes[\"geometry\"] = ipbes[\"geometry\"].apply(lambda geom: make_valid(geom) if not geom.is_valid else geom)\n",
    "ipbes[\"geometry\"] = ipbes.simplify(tolerance=0.01) \n",
    "ipbes[\"geometry\"] = ipbes[\"geometry\"].buffer(0)\n",
    "ipbes = ipbes[ipbes.is_valid]"
   ]
  },
  {
   "cell_type": "code",
   "execution_count": 21,
   "metadata": {},
   "outputs": [],
   "source": [
    "ipbes_dissolved = ipbes.dissolve(by=\"Region\")"
   ]
  },
  {
   "cell_type": "code",
   "execution_count": 22,
   "metadata": {},
   "outputs": [],
   "source": [
    "def year_merge(year):\n",
    "    # making df of just specified year \n",
    "    lpi_year = lpi_df[lpi_df[\"Year\"] == year]\n",
    "    \n",
    "    # replacing name of asia and pacific so that merging later works\n",
    "    lpi_year['Region'] = lpi_year['Region'].replace('Asia and Pacific', 'Asia and the Pacific')\n",
    "    \n",
    "    # getting mean of both north and south america since they're grouped together as \"americas\"\n",
    "    americas = lpi_year[lpi_year['Region'] == 'Americas']\n",
    "    mean = americas['Living Planet Index'].mean()\n",
    "    # deleting old americas rows\n",
    "    lpi_year = lpi_year[lpi_year['Region']!= 'Americas']\n",
    "    \n",
    "    # making new row a df so I can concatenate\n",
    "    new_row = pd.DataFrame({'Living Planet Index' : [mean], 'Region' : ['Americas']})\n",
    "\n",
    "    # concatenating both together\n",
    "    lpi_year = pd.concat([lpi_year, new_row], ignore_index=True)\n",
    "    # merging dataframes and making gdf\n",
    "    year_gdf = gpd.GeoDataFrame(ipbes_dissolved.merge(lpi_year, left_on=\"Region\", right_on=\"Region\"))\n",
    "    return year_gdf"
   ]
  },
  {
   "cell_type": "code",
   "execution_count": null,
   "metadata": {},
   "outputs": [],
   "source": [
    "# This takes a second to run\n",
    "gdf_2020 = year_merge(2020)\n",
    "\n",
    "gdf_2020.plot(\n",
    "    column = 'Living Planet Index',\n",
    "    legend = True,\n",
    "    figsize = (10,6),\n",
    "    cmap = 'YlGn',\n",
    "    legend_kwds = {'label' : 'Living Planet Index', 'orientation' : 'horizontal'}\n",
    ")\n",
    "plt.title('Living planet index by Region of the World in 2020')\n",
    "plt.axis('off')\n",
    "plt.savefig('lpibyregion_2020.png')\n",
    "plt.show()"
   ]
  },
  {
   "cell_type": "code",
   "execution_count": 24,
   "metadata": {},
   "outputs": [],
   "source": [
    "import numpy as np\n",
    "pd.set_option('mode.chained_assignment', None)\n",
    "avg_changes = {}\n",
    "\n",
    "# loop through regions in data (making sure these are only regions that are present after use of year_merge function)\n",
    "for region in year_merge(1970)['Region'].unique():\n",
    "    percent_changes = []\n",
    "\n",
    "    # loop through all years in dataset (except stopping at 2019, because we're looking ahead at percent change)\n",
    "    for year in range(1970, 2020):\n",
    "        # get data for current year and and filter region\n",
    "        first = year_merge(year)[year_merge(year)[\"Region\"] == region]\n",
    "        second = year_merge(year + 1)[year_merge(year + 1)[\"Region\"] == region]\n",
    "        \n",
    "        # calculate percent change of living planet index from current year to next and add to list of changes \n",
    "        change = (second[\"Living Planet Index\"].iloc[0] - first[\"Living Planet Index\"].iloc[0]) / first[\"Living Planet Index\"].iloc[0]\n",
    "        percent_changes.append(change)\n",
    "\n",
    "    # add mean change to dictionary \n",
    "    avg_changes[region] = np.mean(percent_changes)\n",
    "\n",
    "# making a dataframe so I can merge it with the geodataset and make a map\n",
    "changes_df = pd.DataFrame(list(avg_changes.items()), columns=['Region', 'Average Change'])\n",
    "change_gdf = gpd.GeoDataFrame(changes_df.merge(ipbes_dissolved, left_on=\"Region\", right_on=\"Region\"))\n",
    "\n"
   ]
  },
  {
   "cell_type": "code",
   "execution_count": null,
   "metadata": {},
   "outputs": [],
   "source": [
    "fig = change_gdf.plot(\n",
    "    column = \"Average Change\",\n",
    "    legend = True,\n",
    "    figsize = (10, 6),\n",
    "    legend_kwds = {'label': 'Average Percent Change', 'orientation': 'horizontal'},\n",
    "    cmap = 'OrRd'\n",
    ")\n",
    "# had to change background color so that eurasia was visible since it's so late \n",
    "plt.gcf().set_facecolor('lightsteelblue')\n",
    "plt.axis('off')\n",
    "plt.title(\"Average Yearly Percent Change in Living Planet Index from 1970 to 2020\")\n",
    "plt.savefig('lpi_percent_change.png')\n",
    "plt.show()"
   ]
  },
  {
   "cell_type": "markdown",
   "metadata": {},
   "source": [
    "##### Mean red list index "
   ]
  },
  {
   "cell_type": "code",
   "execution_count": 28,
   "metadata": {},
   "outputs": [],
   "source": [
    "countries = gpd.read_file(\"../data/world-administrative-boundaries.shp\")\n",
    "countries.loc[countries[\"color_code\"].notna(), \"ipbes_region\"] = rli_df[\"Code\"].map(region_dct)\n"
   ]
  },
  {
   "cell_type": "code",
   "execution_count": null,
   "metadata": {},
   "outputs": [],
   "source": [
    "aggregated_rli_df = rli_df.groupby('Code')['Red List Index'].mean().reset_index()\n",
    "gdf = gpd.GeoDataFrame(aggregated_rli_df.merge(countries, left_on='Code', right_on= 'color_code'))\n",
    "gdf.plot(\n",
    "    column='Red List Index', \n",
    "    legend=True, \n",
    "    figsize = (10, 6),\n",
    "    legend_kwds = {'label':'Average Red List Index', 'orientation' : 'horizontal'},\n",
    "    cmap='gist_heat',\n",
    "    )\n",
    "plt.axis('off')\n",
    "plt.title(\"Average Red List Index from 1993 to 2020 by country\")\n",
    "plt.savefig('redlistmap.png')\n",
    "plt.show()"
   ]
  },
  {
   "cell_type": "markdown",
   "metadata": {},
   "source": [
    "#### Average proportion of Terrestrial Key Biodiversity Areas (KBAs) covered by protected areas (%)\n",
    "## Map of change in proportion from 2023 to 2000 by percent points"
   ]
  },
  {
   "cell_type": "code",
   "execution_count": 30,
   "metadata": {},
   "outputs": [],
   "source": [
    "# df of just 2000\n",
    "ptbs_2000 = ptbs_df[ptbs_df[\"Year\"] == 2000]\n",
    "# add column to save 2000 data\n",
    "ptbs_2000[\"KBAs 2000\"] = ptbs_2000['KBAs']\n",
    "\n",
    "# df of just 2023\n",
    "ptbs_2023 = ptbs_df[ptbs_df[\"Year\"] == 2023]\n",
    "# add column to save 2023 data\n",
    "ptbs_2023[\"KBAs 2023\"] = ptbs_2023['KBAs']\n",
    "\n",
    "# merge data with 2023 and 2000 column\n",
    "change_df = ptbs_2000.merge(ptbs_2023, left_on='Code', right_on='Code')\n",
    "ptbs_gdf = gpd.GeoDataFrame(change_df.merge(ipbes, left_on='Code', right_on='ISO_3'))\n",
    "\n",
    "# add column to calculate and save change for each country\n",
    "ptbs_gdf[\"Change\"] = ptbs_gdf['KBAs 2023'] - ptbs_gdf[\"KBAs 2000\"]"
   ]
  },
  {
   "cell_type": "code",
   "execution_count": null,
   "metadata": {},
   "outputs": [],
   "source": [
    "ptbs_gdf.head()"
   ]
  },
  {
   "cell_type": "code",
   "execution_count": null,
   "metadata": {},
   "outputs": [],
   "source": [
    "import numpy as np\n",
    "import matplotlib.pyplot as plt\n",
    "from matplotlib.colors import TwoSlopeNorm\n",
    "\n",
    "# Example data\n",
    "data = np.random.randn(10, 10)\n",
    "\n",
    "# Load a diverging colormap (e.g., 'coolwarm')\n",
    "cmap = plt.get_cmap('coolwarm')\n",
    "\n",
    "# Define the midpoint where the colormap should diverge\n",
    "midpoint = 0.0  # The value at which the colormap diverges (can adjust as needed)\n",
    "\n",
    "# Create a TwoSlopeNorm with the desired midpoint\n",
    "norm = TwoSlopeNorm(vmin=data.min(), vcenter=midpoint, vmax=data.max())\n",
    "\n",
    "# Plot the data with the custom colormap and normalization\n",
    "plt.imshow(data, cmap=cmap, norm=norm)\n",
    "plt.colorbar()\n",
    "plt.title('Diverging Colormap with Custom Midpoint')\n",
    "plt.show()\n",
    "\n"
   ]
  },
  {
   "cell_type": "code",
   "execution_count": null,
   "metadata": {},
   "outputs": [],
   "source": [
    "from matplotlib.colors import TwoSlopeNorm\n",
    "midpoint = 0.0  # For example, 0 could be the neutral point where the colormap diverges\n",
    "\n",
    "# Create a diverging colormap and apply TwoSlopeNorm with the custom midpoint\n",
    "cmap = plt.get_cmap('coolwarm')  # Choose your colormap here\n",
    "norm = TwoSlopeNorm(vmin=ptbs_gdf['Change'].min(), vcenter=midpoint, vmax=ptbs_gdf['Change'].max())\n",
    "\n",
    "ptbs_gdf.plot(\n",
    "    column = 'Change',\n",
    "    cmap = cmap,\n",
    "    norm=norm,\n",
    "    legend=True,\n",
    "    legend_kwds={'label': 'Value of KBA Proportion in 2023', 'orientation' : 'horizontal', 'shrink' : 0.5}\n",
    ")\n",
    "plt.axis('off')\n",
    "plt.title(\"Change\")\n",
    "plt.savefig('protected-terrestrial-biodiversity-sites.png')"
   ]
  },
  {
   "cell_type": "markdown",
   "metadata": {},
   "source": [
    "#### Regression"
   ]
  },
  {
   "cell_type": "code",
   "execution_count": 34,
   "metadata": {},
   "outputs": [],
   "source": [
    "# dataFrames for each region for each data set \n",
    "africa_df = filtered_lpi_df[filtered_lpi_df[\"Region\"] == \"Africa\"]\n",
    "americas_df = filtered_lpi_df[filtered_lpi_df[\"Region\"] == \"Americas\"]\n",
    "europe_central_asia_df = filtered_lpi_df[filtered_lpi_df[\"Region\"] == \"Europe and Central Asia\"]\n",
    "asia_pacific_df = filtered_lpi_df[filtered_lpi_df[\"Region\"] == \"Asia and Pacific\"]\n",
    "africa_df_rli = filtered_rli_df[filtered_rli_df[\"Region\"]== \"Africa\"]\n",
    "americas_df_rli = filtered_rli_df[filtered_rli_df[\"Region\"]== \"Americas\"]\n",
    "european_central_asia_df_rli = filtered_rli_df[filtered_rli_df[\"Region\"]== \"Europe and Central Asia\"]\n",
    "asia_pacific_df_rli = filtered_rli_df[filtered_rli_df[\"Region\"]== \"Asia and the Pacific\"]\n",
    "# Define the regions you want to analyze\n",
    "regions = [\"Africa\", \"Americas\", \"Europe and Central Asia\", \"Asia and the Pacific\"]"
   ]
  },
  {
   "cell_type": "code",
   "execution_count": 35,
   "metadata": {},
   "outputs": [],
   "source": [
    "def plot_future_trend(region_df, region_name, model, ax, future_year_range, plot_actual=True):\n",
    "    \"\"\"\n",
    "    Train and predict future Living Planet Index values for a region,\n",
    "    and optionally plot both actual and predicted values.region_df: DataFrame containing data for the specific region.\n",
    "    region_name: Name of the region (for labeling).,model: A scikit-learn regression model.,ax: Matplotlib Axes object to plot on.\n",
    "    - future_year_range: List or array of years to predict future values for., plot_actual: Boolean flag to control whether to plot actual values as well. Defaults to True.\n",
    "    \"\"\"\n",
    "    # Prepare features (using 'Year' only to predict future trend)\n",
    "    X = region_df[['Year']]\n",
    "    y = region_df['Living Planet Index']\n",
    "    \n",
    "    # Train-test split\n",
    "    X_train, X_test, y_train, y_test = train_test_split(X, y, test_size=0.2, random_state=0)\n",
    "    \n",
    "    # Train the model\n",
    "    model.fit(X_train, y_train)\n",
    "    \n",
    "    # Generate future years for prediction\n",
    "    future_years = np.array(future_year_range).reshape(-1, 1)\n",
    "    \n",
    "    # Predict values for the specified future years\n",
    "    future_predictions = model.predict(future_years)\n",
    "    \n",
    "    # Print predicted values for the future years\n",
    "    print(f\"Predictions for {region_name}:\")\n",
    "    for year, prediction in zip(future_year_range, future_predictions):\n",
    "        print(f\"Year: {year}, Predicted Living Planet Index: {prediction:.3f}\")\n",
    "    \n",
    "    # Optionally plot actual values\n",
    "    if plot_actual:\n",
    "        sns.lineplot(x='Year', y='Living Planet Index', data=region_df, ax=ax, label=f'{region_name} - Actual', marker='o')\n",
    "    \n",
    "    # Plot predicted values\n",
    "    ax.plot(future_years.flatten(), future_predictions, label=f'{region_name} - Predicted', linestyle='--', marker='x')\n",
    "    \n",
    "    # Set plot titles and labels\n",
    "    ax.set_title(\"Living Planet Index (Predicted by Region)\")  # Removed 'World' reference\n",
    "    ax.set_xlabel(\"Year\")\n",
    "    ax.set_ylabel(\"Living Planet Index\")\n",
    "    ax.legend()"
   ]
  },
  {
   "cell_type": "code",
   "execution_count": null,
   "metadata": {},
   "outputs": [],
   "source": [
    "# Example usage\n",
    "future_years = [2021, 2022, 2023, 2024, 2025]\n",
    "regions = filtered_lpi_df['Region'].unique()  # Get unique regions from your data\n",
    "\n",
    "# To plot both actual and predicted values (excluding 'World' and 'Freshwater'):\n",
    "plot_all_regions(filtered_lpi_df, future_years, regions, plot_actual=True)\n",
    "\n",
    "# To plot only predicted values (excluding 'World' and 'Freshwater'):\n",
    "#plot_all_regions(filtered_lpi_df, future_years, regions, plot_actual=False)"
   ]
  },
  {
   "cell_type": "code",
   "execution_count": null,
   "metadata": {},
   "outputs": [],
   "source": [
    "plot_all_regions(filtered_lpi_df, future_years, regions, plot_actual=False)"
   ]
  },
  {
   "cell_type": "code",
   "execution_count": null,
   "metadata": {},
   "outputs": [],
   "source": [
    "def predict_future_trend(region_df, region_name, model, ax, all_predictions):\n",
    "   \"\"\"\n",
    "    Predicts future trends for a specified region using a regression model and plots the results/\n",
    "    Returns:\n",
    "        tuple: A tuple containing:\n",
    "            - future_years (pd.DataFrame): A DataFrame with years 2021 to 2025 for predictions.\n",
    "            - future_predictions (np.ndarray): The predicted values for the next 5 years.\"\"\" \n",
    "    # Prepare features (using 'Year' only for fitting the model)\n",
    "    X = region_df[['Year']]\n",
    "    y = region_df[\"Red List Index\"]\n",
    "    \n",
    "    # Train-test split\n",
    "    X_train, X_test, y_train, y_test = train_test_split(X, y, random_state=0)\n",
    "    \n",
    "    # Train the model\n",
    "    model.fit(X_train, y_train)\n",
    "    \n",
    "    # Generate future years for prediction (2021-2025)\n",
    "    future_years = pd.DataFrame({'Year': [2021, 2022, 2023, 2024, 2025]})\n",
    "    \n",
    "    # Predict values for the next 5 years\n",
    "    future_predictions = model.predict(future_years)\n",
    "    \n",
    "    # Store predictions for normalization later\n",
    "    all_predictions.extend(future_predictions)\n",
    "    \n",
    "    # Return data for plotting and annotation\n",
    "    return future_years, future_predictions"
   ]
  },
  {
   "cell_type": "markdown",
   "metadata": {},
   "source": [
    "## Red List Index Regressions"
   ]
  },
  {
   "cell_type": "code",
   "execution_count": null,
   "metadata": {},
   "outputs": [],
   "source": [
    "regions = [\"Africa\", \"Americas\", \"Europe and Central Asia\", \"Asia and the Pacific\"]\n",
    "\n",
    "# Filter the RLI data to only include data for the specified regions\n",
    "filtered_rli_df = rli_df[rli_df[\"Region\"].isin(regions)]\n",
    "\n",
    "# Initialize the plot\n",
    "sns.set(style=\"whitegrid\")  \n",
    "fig, ax = plt.subplots(figsize=(12, 8))\n",
    "\n",
    "# Loop through each of the regions to plot actual and predicted data\n",
    "for region in regions:\n",
    "    # Filter data for the region up to 2024\n",
    "    region_data = filtered_rli_df[(filtered_rli_df[\"Region\"] == region) & (filtered_rli_df[\"Year\"] <= 2024)]\n",
    "    \n",
    "    # Prepare the independent variable  and dependent variable\n",
    "    X_train = region_data[['Year']]  \n",
    "    y_train = region_data['15.5.1 - Red List Index - ER_RSK_LST'] \n",
    "\n",
    "    # Train a linear regression model\n",
    "    model = LinearRegression()\n",
    "    model.fit(X_train, y_train)\n",
    "\n",
    "    # Predict for the years 2025 to 2029\n",
    "    future_years = pd.DataFrame({'Year': [2025, 2026, 2027, 2028, 2029]})\n",
    "    future_predictions = model.predict(future_years)\n",
    "\n",
    "    # Plot actual RLI data\n",
    "    sns.lineplot(\n",
    "        x=region_data['Year'],\n",
    "        y=region_data['15.5.1 - Red List Index - ER_RSK_LST'],\n",
    "        label=f'{region} - Actual',\n",
    "        ax=ax\n",
    "    )\n",
    "\n",
    "    # Plot predicted RLI data\n",
    "    sns.lineplot(\n",
    "        x=future_years['Year'],\n",
    "        y=future_predictions,\n",
    "        label=f'{region} - Predicted',\n",
    "        linestyle='--',\n",
    "        ax=ax\n",
    "    )\n",
    "\n",
    "# plot labels \n",
    "ax.set_xlabel('Year', fontsize=12)\n",
    "ax.set_ylabel('Red List Index', fontsize=12)\n",
    "ax.set_title('Red List Index Predictions by Region for 2025–2029', fontsize=14)\n",
    "ax.legend(fontsize=10, title=\"Legend\", title_fontsize=12)\n",
    "\n",
    "# Display the plot\n",
    "plt.show()"
   ]
  },
  {
   "cell_type": "code",
   "execution_count": null,
   "metadata": {},
   "outputs": [],
   "source": [
    "\n",
    "sns.set(style=\"whitegrid\")  # Set seaborn style\n",
    "fig, ax = plt.subplots(figsize=(12, 8))\n",
    "\n",
    "# Loop through each region\n",
    "for region in regions:\n",
    "    # Filter data for the region up to 2024\n",
    "    region_data = filtered_rli_df[(filtered_rli_df[\"Region\"] == region) & (filtered_rli_df[\"Year\"] <= 2024)]\n",
    "\n",
    "    # Prepare the independent variable (Year) and dependent variable (Red List Index)\n",
    "    X_train = region_data[['Year']]  # Year as the independent variable\n",
    "    y_train = region_data['15.5.1 - Red List Index - ER_RSK_LST']  # Red List Index as the dependent variable\n",
    "\n",
    "    # Train a linear regression model\n",
    "    model = LinearRegression()\n",
    "    model.fit(X_train, y_train)\n",
    "\n",
    "    # Predict for the years 2025 to 2029\n",
    "    future_years = pd.DataFrame({'Year': [2025, 2026, 2027, 2028, 2029]})\n",
    "    future_predictions = model.predict(future_years)\n",
    "\n",
    "    # Print predictions for each year\n",
    "    print(f\"\\nPredictions for {region}:\")\n",
    "    for year, pred in zip(future_years['Year'], future_predictions):\n",
    "        print(f\"Year {year}: Predicted RLI = {pred:.4f}\")\n",
    "\n",
    "    # Plot predicted RLI data with dotted lines and markers\n",
    "    sns.lineplot(\n",
    "        x=future_years['Year'],\n",
    "        y=future_predictions,\n",
    "        label=f'{region} - Predicted',\n",
    "        linestyle='--',  # Dotted line\n",
    "        marker='o',      # Marker for each year\n",
    "        ax=ax\n",
    "    )\n",
    "\n",
    "# plot labels \n",
    "ax.set_xlabel('Year', fontsize=12)\n",
    "ax.set_ylabel('Red List Index', fontsize=12)\n",
    "ax.set_title('Red List Index Predictions by Region for 2025–2029', fontsize=14)\n",
    "ax.legend(fontsize=10, title=\"Legend\", title_fontsize=12)\n",
    "\n",
    "# Display the plot\n",
    "plt.show()"
   ]
  }
 ],
 "metadata": {
  "kernelspec": {
   "display_name": "base",
   "language": "python",
   "name": "python3"
  },
  "language_info": {
   "codemirror_mode": {
    "name": "ipython",
    "version": 3
   },
   "file_extension": ".py",
   "mimetype": "text/x-python",
   "name": "python",
   "nbconvert_exporter": "python",
   "pygments_lexer": "ipython3",
   "version": "3.11.5"
  }
 },
 "nbformat": 4,
 "nbformat_minor": 2
}
